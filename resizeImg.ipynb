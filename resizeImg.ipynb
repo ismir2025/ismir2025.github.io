{
 "cells": [
  {
   "cell_type": "code",
   "execution_count": 2,
   "metadata": {},
   "outputs": [
    {
     "name": "stderr",
     "output_type": "stream",
     "text": [
      "                                                                                            "
     ]
    },
    {
     "name": "stdout",
     "output_type": "stream",
     "text": [
      "이미지 리사이즈 및 WebP 변환 작업이 완료되었습니다!\n"
     ]
    },
    {
     "name": "stderr",
     "output_type": "stream",
     "text": [
      "\r"
     ]
    }
   ],
   "source": [
    "import os\n",
    "from PIL import Image\n",
    "from tqdm import tqdm\n",
    "\n",
    "# fhd 폴더 정리 함수\n",
    "def clean_fhd_folder(fhd_folder, source_files):\n",
    "    \"\"\"fhd 폴더 내 .webp 파일 중 원본 파일 목록과\n",
    "    매칭되지 않는 파일을 삭제한다.\"\"\"\n",
    "    if os.path.exists(fhd_folder):\n",
    "        for file in os.listdir(fhd_folder):\n",
    "            if file.lower().endswith(\".webp\"):\n",
    "                source_name = os.path.splitext(file)[0]\n",
    "                if source_name not in source_files:\n",
    "                    os.remove(os.path.join(fhd_folder, file))\n",
    "                    print(f\"Deleted: {os.path.join(fhd_folder, file)} (no matching source file)\")\n",
    "\n",
    "# 리사이즈 및 WebP 저장 함수\n",
    "def resize_image(file_path, output_path, max_size=1920):\n",
    "    \"\"\"원본 비율을 유지하면서 긴 변을 max_size(px)로 맞춘다.\n",
    "    이미 원본이 더 작으면 리사이즈 없이 그대로 WebP로 저장.\"\"\"\n",
    "    with Image.open(file_path) as img:\n",
    "        width, height = img.size\n",
    "\n",
    "        # 이미 가로, 세로 모두 max_size 이하라면 리사이즈 없이 저장\n",
    "        if width <= max_size and height <= max_size:\n",
    "            img.save(output_path, format=\"WEBP\", quality=85)\n",
    "            return\n",
    "\n",
    "        # 긴 변이 max_size가 되도록 비율 맞춰 리사이즈\n",
    "        if width > height:\n",
    "            new_width = max_size\n",
    "            new_height = int(height * (max_size / float(width)))\n",
    "        else:\n",
    "            new_height = max_size\n",
    "            new_width = int(width * (max_size / float(height)))\n",
    "\n",
    "        resized_img = img.resize((new_width, new_height), Image.Resampling.LANCZOS)\n",
    "        resized_img.save(output_path, format=\"WEBP\", quality=85)\n",
    "\n",
    "# 최상위 폴더(재귀적으로 하위 폴더 순회)\n",
    "base_dir = \"./src/assets\"\n",
    "\n",
    "# os.walk를 사용해 모든 하위 디렉토리를 깊이와 상관없이 순회\n",
    "# root: 현재 디렉토리 경로, dirs: root 안의 하위 디렉토리 목록, files: root 안의 파일 목록\n",
    "for root, dirs, files in os.walk(base_dir):\n",
    "    # 'fhd' 디렉토리 자체(및 그 안)를 다시 처리하는 것은 피하려면 건너뛴다.\n",
    "    # (필요에 따라 제거하거나 수정 가능)\n",
    "    if os.path.basename(root) == \"fhd\":\n",
    "        continue\n",
    "\n",
    "    # 현재 디렉토리에 있는 원본 파일 이름 목록 생성 (확장자는 소문자로 비교)\n",
    "    source_files = {\n",
    "        os.path.splitext(f)[0]\n",
    "        for f in files\n",
    "        if os.path.splitext(f)[1].lower() in (\".jpeg\", \".jpg\", \".png\")\n",
    "    }\n",
    "\n",
    "    # fhd 폴더 경로 정의\n",
    "    fhd_folder = os.path.join(root, \"fhd\")\n",
    "    # 먼저 fhd 폴더에 남아있는 웹피 파일 중 원본에 없는 파일을 삭제\n",
    "    clean_fhd_folder(fhd_folder, source_files)\n",
    "\n",
    "    # fhd 폴더가 없으면 생성\n",
    "    if not os.path.exists(fhd_folder):\n",
    "        os.makedirs(fhd_folder)\n",
    "\n",
    "    # tqdm으로 파일 처리 과정을 진행 상황 표시\n",
    "    for file in tqdm(files, desc=f\"Processing: {root}\", leave=False):\n",
    "        # 소문자 확장자 비교\n",
    "        ext = os.path.splitext(file)[1].lower()\n",
    "        if ext in (\".jpeg\", \".jpg\", \".png\"):\n",
    "            file_path = os.path.join(root, file)\n",
    "            output_name = os.path.splitext(file)[0] + \".webp\"\n",
    "            output_path = os.path.join(fhd_folder, output_name)\n",
    "            '''\n",
    "            # 이미 변환된 파일이 있으면 스킵\n",
    "            if os.path.exists(output_path):\n",
    "                # 필요 시 진행 상황 출력\n",
    "                # print(f\"Skipping: {output_path} (already exists)\")\n",
    "                continue\n",
    "            '''\n",
    "            # 이미지 변환 진행\n",
    "            resize_image(file_path, output_path, max_size=1920)\n",
    "\n",
    "print(\"이미지 리사이즈 및 WebP 변환 작업이 완료되었습니다!\")\n"
   ]
  },
  {
   "cell_type": "code",
   "execution_count": null,
   "metadata": {},
   "outputs": [],
   "source": []
  }
 ],
 "metadata": {
  "kernelspec": {
   "display_name": "website",
   "language": "python",
   "name": "python3"
  },
  "language_info": {
   "codemirror_mode": {
    "name": "ipython",
    "version": 3
   },
   "file_extension": ".py",
   "mimetype": "text/x-python",
   "name": "python",
   "nbconvert_exporter": "python",
   "pygments_lexer": "ipython3",
   "version": "3.12.0"
  }
 },
 "nbformat": 4,
 "nbformat_minor": 2
}
